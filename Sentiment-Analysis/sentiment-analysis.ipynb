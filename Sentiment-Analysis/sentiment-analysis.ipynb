{
 "cells": [
  {
   "cell_type": "markdown",
   "id": "c1a5489d",
   "metadata": {},
   "source": [
    "<h1> Title: Sentiment Analysis</h1>\n",
    "\n",
    "<strong>Overview: In this notebook, I aim to perform sentiment analysis</strong><br>\n",
    "In this notebook, it covers:<br>\n",
    "1.0 Emotion Prediction<br>\n",
    "2.0 Sentiment Mapping<br>"
   ]
  },
  {
   "cell_type": "code",
   "execution_count": 14,
   "id": "01165d5d",
   "metadata": {},
   "outputs": [],
   "source": [
    "import re\n",
    "import pandas as pd\n",
    "import requests"
   ]
  },
  {
   "cell_type": "code",
   "execution_count": 12,
   "id": "1f929e2a",
   "metadata": {},
   "outputs": [
    {
     "data": {
      "text/plain": [
       "0    The, uh, *shape* of the containers is somethin...\n",
       "1          And with perfect people like you â¤ï¸ðŸŒ¸\n",
       "2    Please don't call me sir😅😅 best part is you re...\n",
       "3    Lol All you need is to put your hair in two po...\n",
       "4                        It's \"for the record\" by Ooyy\n",
       "5      All that to look just above average teanage boy\n",
       "6                                              Alright\n",
       "7       Please show us what these are like in the sun.\n",
       "8                    This is a great point, thank you!\n",
       "9    Pretty brave to try it anyway after dreaming t...\n",
       "Name: textOriginal, dtype: object"
      ]
     },
     "execution_count": 12,
     "metadata": {},
     "output_type": "execute_result"
    }
   ],
   "source": [
    "df = pd.read_csv('../Datasets/comments.csv',nrows=10)\n",
    "df[\"textOriginal\"]"
   ]
  },
  {
   "cell_type": "markdown",
   "id": "614bc4d4",
   "metadata": {},
   "source": [
    "## 1.0 Emotion Prediction"
   ]
  },
  {
   "cell_type": "code",
   "execution_count": null,
   "id": "55011925",
   "metadata": {},
   "outputs": [],
   "source": [
    "API_URL = \"http://localhost:8000/predict\"\n",
    "API_KEY = \"my_secret_key_605\"\n",
    "\n",
    "def predict_emotion(comment: str, threshold: float = 0.8, use_gnn: bool = True):\n",
    "    headers = {\"x-api-key\": API_KEY}\n",
    "    payload = {\n",
    "        \"text\": comment,\n",
    "        \"threshold\": threshold,\n",
    "        \"use_gnn\": use_gnn\n",
    "    }\n",
    "    response = requests.post(API_URL, json=payload, headers=headers)\n",
    "\n",
    "    if response.status_code == 200:\n",
    "        return response.json()[\"predictions\"]\n",
    "    else:\n",
    "        raise Exception(f\"Error {response.status_code}: {response.text}\")"
   ]
  },
  {
   "cell_type": "code",
   "execution_count": 33,
   "id": "8797780a",
   "metadata": {},
   "outputs": [
    {
     "name": "stdout",
     "output_type": "stream",
     "text": [
      "                                        textOriginal  \\\n",
      "0  The, uh, *shape* of the containers is somethin...   \n",
      "1        And with perfect people like you â¤ï¸ðŸŒ¸   \n",
      "2  Please don't call me sir😅😅 best part is you re...   \n",
      "3  Lol All you need is to put your hair in two po...   \n",
      "4                      It's \"for the record\" by Ooyy   \n",
      "5    All that to look just above average teanage boy   \n",
      "6                                            Alright   \n",
      "7     Please show us what these are like in the sun.   \n",
      "8                  This is a great point, thank you!   \n",
      "9  Pretty brave to try it anyway after dreaming t...   \n",
      "\n",
      "                                             emotion  \n",
      "0  [[curiosity, 0.9928971529006958], [neutral, 0....  \n",
      "1  [[admiration, 0.9870427846908569], [neutral, 0...  \n",
      "2  [[neutral, 0.8885517120361328], [gratitude, 0....  \n",
      "3  [[amusement, 0.9933191537857056], [curiosity, ...  \n",
      "4                    [[neutral, 0.9633876085281372]]  \n",
      "5  [[annoyance, 0.9610331058502197], [admiration,...  \n",
      "6  [[caring, 0.9785076379776001], [neutral, 0.840...  \n",
      "7  [[curiosity, 0.9498285055160522], [neutral, 0....  \n",
      "8  [[gratitude, 0.9996185302734375], [admiration,...  \n",
      "9  [[admiration, 0.994522213935852], [embarrassme...  \n"
     ]
    }
   ],
   "source": [
    "df[\"emotion\"] = df[\"textOriginal\"].apply(predict_emotion)\n",
    "print(df[[\"textOriginal\", \"emotion\"]])"
   ]
  },
  {
   "cell_type": "markdown",
   "id": "4a7f2421",
   "metadata": {},
   "source": [
    "## 2.0 Sentiment Mapping"
   ]
  },
  {
   "cell_type": "code",
   "execution_count": 16,
   "id": "035f885b",
   "metadata": {},
   "outputs": [],
   "source": [
    "# Emotion-to-sentiment mapping\n",
    "emotion_to_sentiment = {\n",
    "    \"admiration\": \"positive\",\n",
    "    \"amusement\": \"positive\",\n",
    "    \"approval\": \"positive\",\n",
    "    \"caring\": \"positive\",\n",
    "    \"curiosity\": \"positive\",\n",
    "    \"desire\": \"positive\",\n",
    "    \"excitement\": \"positive\",\n",
    "    \"gratitude\": \"positive\",\n",
    "    \"joy\": \"positive\",\n",
    "    \"love\": \"positive\",\n",
    "    \"optimism\": \"positive\",\n",
    "    \"pride\": \"positive\",\n",
    "    \"relief\": \"positive\",\n",
    "\n",
    "    \"anger\": \"negative\",\n",
    "    \"annoyance\": \"negative\",\n",
    "    \"confusion\": \"negative\",\n",
    "    \"disappointment\": \"negative\",\n",
    "    \"disapproval\": \"negative\",\n",
    "    \"disgust\": \"negative\",\n",
    "    \"embarrassment\": \"negative\",\n",
    "    \"fear\": \"negative\",\n",
    "    \"grief\": \"negative\",\n",
    "    \"nervousness\": \"negative\",\n",
    "    \"remorse\": \"negative\",\n",
    "    \"sadness\": \"negative\",\n",
    "\n",
    "    \"neutral\": \"neutral\",\n",
    "    \"realization\": \"neutral\",\n",
    "    \"surprise\": \"neutral\"\n",
    "}"
   ]
  },
  {
   "cell_type": "code",
   "execution_count": null,
   "id": "2602f1d7",
   "metadata": {},
   "outputs": [],
   "source": [
    "# Convert emotions → sentiment with scores\n",
    "def map_to_sentiment(emotion_predictions):\n",
    "    sentiment_scores = {\"positive\": 0.0, \"negative\": 0.0, \"neutral\": 0.0}\n",
    "    for emotion, score in emotion_predictions:\n",
    "        sentiment = emotion_to_sentiment.get(emotion, \"neutral\")\n",
    "        sentiment_scores[sentiment] += score\n",
    "    return sentiment_scores\n",
    "\n",
    "# Get final sentiment (highest total score)\n",
    "def get_final_sentiment(emotion_predictions):\n",
    "    scores = map_to_sentiment(emotion_predictions)\n",
    "    return max(scores, key=scores.get)"
   ]
  },
  {
   "cell_type": "code",
   "execution_count": 34,
   "id": "0f0e0ae1",
   "metadata": {},
   "outputs": [
    {
     "name": "stdout",
     "output_type": "stream",
     "text": [
      "                                        textOriginal  \\\n",
      "0  The, uh, *shape* of the containers is somethin...   \n",
      "1        And with perfect people like you â¤ï¸ðŸŒ¸   \n",
      "2  Please don't call me sir😅😅 best part is you re...   \n",
      "3  Lol All you need is to put your hair in two po...   \n",
      "4                      It's \"for the record\" by Ooyy   \n",
      "5    All that to look just above average teanage boy   \n",
      "6                                            Alright   \n",
      "7     Please show us what these are like in the sun.   \n",
      "8                  This is a great point, thank you!   \n",
      "9  Pretty brave to try it anyway after dreaming t...   \n",
      "\n",
      "                                             emotion  \\\n",
      "0  [[curiosity, 0.9928971529006958], [neutral, 0....   \n",
      "1  [[admiration, 0.9870427846908569], [neutral, 0...   \n",
      "2  [[neutral, 0.8885517120361328], [gratitude, 0....   \n",
      "3  [[amusement, 0.9933191537857056], [curiosity, ...   \n",
      "4                    [[neutral, 0.9633876085281372]]   \n",
      "5  [[annoyance, 0.9610331058502197], [admiration,...   \n",
      "6  [[caring, 0.9785076379776001], [neutral, 0.840...   \n",
      "7  [[curiosity, 0.9498285055160522], [neutral, 0....   \n",
      "8  [[gratitude, 0.9996185302734375], [admiration,...   \n",
      "9  [[admiration, 0.994522213935852], [embarrassme...   \n",
      "\n",
      "                                    sentiment_scores final_sentiment  \n",
      "0  {'positive': 0.9928971529006958, 'negative': 0...        positive  \n",
      "1  {'positive': 1.8767725229263306, 'negative': 0...        positive  \n",
      "2  {'positive': 1.7499979734420776, 'negative': 0...        positive  \n",
      "3  {'positive': 1.9413199424743652, 'negative': 0...        positive  \n",
      "4  {'positive': 0.0, 'negative': 0.0, 'neutral': ...         neutral  \n",
      "5  {'positive': 0.9574086666107178, 'negative': 1...        negative  \n",
      "6  {'positive': 0.9785076379776001, 'negative': 0...        positive  \n",
      "7  {'positive': 1.7940562963485718, 'negative': 0...        positive  \n",
      "8  {'positive': 1.9971061944961548, 'negative': 0...        positive  \n",
      "9  {'positive': 0.994522213935852, 'negative': 0....        positive  \n"
     ]
    }
   ],
   "source": [
    "df[\"sentiment_scores\"] = df[\"emotion\"].apply(map_to_sentiment)\n",
    "df[\"final_sentiment\"] = df[\"emotion\"].apply(get_final_sentiment)\n",
    "\n",
    "print(df[[\"textOriginal\", \"emotion\", \"sentiment_scores\", \"final_sentiment\"]])"
   ]
  }
 ],
 "metadata": {
  "kernelspec": {
   "display_name": ".venv",
   "language": "python",
   "name": "python3"
  },
  "language_info": {
   "codemirror_mode": {
    "name": "ipython",
    "version": 3
   },
   "file_extension": ".py",
   "mimetype": "text/x-python",
   "name": "python",
   "nbconvert_exporter": "python",
   "pygments_lexer": "ipython3",
   "version": "3.12.6"
  }
 },
 "nbformat": 4,
 "nbformat_minor": 5
}
